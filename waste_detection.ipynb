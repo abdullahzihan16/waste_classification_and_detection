{
 "cells": [
  {
   "cell_type": "raw",
   "id": "affd9c03-3c68-4dff-b07b-260542aae4ff",
   "metadata": {},
   "source": [
    "Code for single waste"
   ]
  },
  {
   "cell_type": "code",
   "execution_count": 45,
   "id": "f3bdee4c-313f-4976-af9a-4b33cfaf148f",
   "metadata": {},
   "outputs": [
    {
     "name": "stderr",
     "output_type": "stream",
     "text": [
      "WARNING:absl:Compiled the loaded model, but the compiled metrics have yet to be built. `model.compile_metrics` will be empty until you train or evaluate the model.\n",
      "WARNING:absl:Error in loading the saved optimizer state. As a result, your model is starting with a freshly initialized optimizer.\n"
     ]
    },
    {
     "name": "stdout",
     "output_type": "stream",
     "text": [
      "\u001b[1m1/1\u001b[0m \u001b[32m━━━━━━━━━━━━━━━━━━━━\u001b[0m\u001b[37m\u001b[0m \u001b[1m0s\u001b[0m 69ms/step\n",
      "Predicted Waste Type: paper\n"
     ]
    }
   ],
   "source": [
    "import tensorflow as tf\n",
    "import numpy as np\n",
    "from tensorflow.keras.preprocessing import image\n",
    "from PIL import Image\n",
    "\n",
    "# Load the trained model\n",
    "model_path = r\"C:\\Users\\ASUS\\Desktop\\waste_classification\\garbage-classification-main\\garbage-classification-main\\model.h5\"\n",
    "model = tf.keras.models.load_model(model_path)\n",
    "\n",
    "# Define class labels (same as used in training)\n",
    "class_labels = ['cardboard', 'glass', 'metal', 'paper', 'plastic', 'trash']\n",
    "\n",
    "# Load the image\n",
    "image_path = r\"C:\\Users\\ASUS\\Desktop\\waste_classification\\garbage-classification-main\\garbage-classification-main\\test_image.jpeg\"\n",
    "img = Image.open(image_path)\n",
    "\n",
    "# Resize the image to match model input size\n",
    "img = img.resize((32, 32))  # Model expects 32x32\n",
    "img = img.convert(\"RGB\")  # Ensure 3 channels (RGB)\n",
    "\n",
    "# Convert image to array\n",
    "img_array = image.img_to_array(img)\n",
    "img_array = np.expand_dims(img_array, axis=0)  # Add batch dimension\n",
    "img_array = img_array / 255.0  # Normalize\n",
    "\n",
    "# Predict class\n",
    "predictions = model.predict(img_array)\n",
    "predicted_class = np.argmax(predictions)  # Get class index\n",
    "predicted_label = class_labels[predicted_class]\n",
    "\n",
    "# Print result\n",
    "print(f\"Predicted Waste Type: {predicted_label}\")\n"
   ]
  },
  {
   "cell_type": "code",
   "execution_count": null,
   "id": "f9d36cae-5690-4592-a1a7-8ab0d7ee936c",
   "metadata": {},
   "outputs": [],
   "source": []
  }
 ],
 "metadata": {
  "kernelspec": {
   "display_name": "Python 3 (ipykernel)",
   "language": "python",
   "name": "python3"
  },
  "language_info": {
   "codemirror_mode": {
    "name": "ipython",
    "version": 3
   },
   "file_extension": ".py",
   "mimetype": "text/x-python",
   "name": "python",
   "nbconvert_exporter": "python",
   "pygments_lexer": "ipython3",
   "version": "3.12.7"
  }
 },
 "nbformat": 4,
 "nbformat_minor": 5
}
